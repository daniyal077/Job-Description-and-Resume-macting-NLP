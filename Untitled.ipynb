{
 "cells": [
  {
   "cell_type": "code",
   "execution_count": 2,
   "id": "856ce34f-728b-4291-a911-dd33f29115b3",
   "metadata": {},
   "outputs": [
    {
     "name": "stdout",
     "output_type": "stream",
     "text": [
      "Collecting docx2txt\n",
      "  Using cached docx2txt-0.8-py3-none-any.whl\n",
      "Installing collected packages: docx2txt\n",
      "Successfully installed docx2txt-0.8\n"
     ]
    },
    {
     "name": "stderr",
     "output_type": "stream",
     "text": [
      "\n",
      "[notice] A new release of pip is available: 24.1.2 -> 24.2\n",
      "[notice] To update, run: python.exe -m pip install --upgrade pip\n"
     ]
    }
   ],
   "source": [
    "!pip install docx2txt"
   ]
  },
  {
   "cell_type": "code",
   "execution_count": 3,
   "id": "32e98903-75b4-4649-bd1e-492301969c3d",
   "metadata": {},
   "outputs": [
    {
     "name": "stdout",
     "output_type": "stream",
     "text": [
      "C:\\Users\\daniy\\AppData\\Local\\Programs\\Python\\Python312\\python.exe\n"
     ]
    }
   ],
   "source": [
    "import sys\n",
    "print(sys.executable)\n"
   ]
  },
  {
   "cell_type": "code",
   "execution_count": 15,
   "id": "0f35dd83-ba96-4985-92b0-80b930440cbe",
   "metadata": {},
   "outputs": [
    {
     "name": "stdout",
     "output_type": "stream",
     "text": [
      "S/ny/ne/nd/n /nD/na/nn/ni/ny/na/nl/n /nA/nh/nm/ne/nd/n /n /nS/no/nf/nt/nw/na/nr/ne/n /nE/nn/ng/ni/nn/ne/ne/nr/n /n /n /n /n /n0/n3/n1/n3/n6/n4/n2/n0/n7/n5/n1/n /n /n\t/n /nd/na/nn/ni/ny/na/nl/na/nh/nm/ne/nd/n3/n8/n3/n5/n@/ng/nm/na/ni/nl/n./nc/no/nm/n /n /n\t/n /nK/na/nr/na/nc/nh/ni/n,/n /nP/na/nk/ni/ns/nt/na/nn/n /n /nP/nr/no/nf/ni/nl/ne/n /nS/nu/nm/nm/na/nr/ny/n /n /nI/n /na/nm/n /na/n /nd/ne/nd/ni/nc/na/nt/ne/nd/n /nS/no/nf/nt/nw/na/nr/ne/n /nE/nn/ng/ni/nn/ne/ne/nr/ni/nn/ng/n /ns/nt/nu/nd/ne/nn/nt/n /nw/ni/nt/nh/n /na/n /nk/ne/ne/nn/n /ni/nn/nt/ne/nr/ne/ns/nt/n /ni/nn/n /nD/na/nt/na/n /nS/nc/ni/ne/nn/nc/ne/n./n /nH/na/nv/ni/nn/ng/n /nr/ne/nc/ne/nn/nt/nl/ny/n /nc/no/nm/np/nl/ne/nt/ne/nd/n /nt/nh/ne/n /n5/nt/nh/n /ns/ne/nm/ne/ns/nt/ne/nr/n /no/nf/n /nm/ny/n /ns/no/nf/nt/nw/na/nr/ne/n /ne/nn/ng/ni/nn/ne/ne/nr/ni/nn/ng/n /np/nr/no/ng/nr/na/nm/n /na/nt/n /nU/nI/nT/n /nU/nn/ni/nv/ne/nr/ns/ni/nt/ny/n /nw/ni/nt/nh/n /na/n /n3/n./n0/n0/n /nC/nG/nP/nA/n,/n /nI/n /na/nm/n /nn/no/nw/n /ne/na/ng/ne/nr/n /nt/no/n /ng/na/ni/nn/n /ne/nx/np/ne/nr/ni/ne/nn/nc/ne/n /ni/nn/n /nt/nh/ne/n /nf/ni/ne/nl/nd/n /no/nf/n /nD/na/nt/na/n /nS/nc/ni/ne/nn/nc/ne/n /nt/nh/nr/no/nu/ng/nh/n /na/nn/n /ni/nn/nt/ne/nr/nn/ns/nh/ni/np/n /no/np/np/no/nr/nt/nu/nn/ni/nt/ny/n./n /nI/n /np/no/ns/ns/ne/ns/ns/n /ns/nt/nr/no/nn/ng/n /np/nr/no/nb/nl/ne/nm/n-/ns/no/nl/nv/ni/nn/ng/n /ns/nk/ni/nl/nl/ns/n /na/nn/nd/n /ne/nf/nf/ne/nc/nt/ni/nv/ne/n /nc/no/nm/nm/nu/nn/ni/nc/na/nt/ni/no/nn/n /na/nb/ni/nl/ni/nt/ni/ne/ns/n,/n /nw/nh/ni/nc/nh/n /nI/n /na/ni/nm/n /nt/no/n /nu/nt/ni/nl/ni/nz/ne/n /ni/nn/n /nc/no/nn/nt/nr/ni/nb/nu/nt/ni/nn/ng/n /nt/no/n /nr/ne/na/nl/n-/nw/no/nr/nl/nd/n /nd/na/nt/na/n /na/nn/na/nl/ny/ns/ni/ns/n /na/nn/nd/n /nm/na/nc/nh/ni/nn/ne/n /nl/ne/na/nr/nn/ni/nn/ng/n /np/nr/no/nj/ne/nc/nt/ns/n./nS/nK/nI/nL/nL/nS/n /n /n /n /nD/na/nt/na/n /nA/nn/na/nl/ny/ns/ni/ns/nM/na/nc/nh/ni/nn/ne/n /nL/ne/na/nr/nn/ni/nn/ng/n /nM/no/nd/ne/nl/ns/nP/ny/nt/nh/no/nn/n /n(/ni/nn/nc/nl/nu/nd/ni/nn/ng/n /nl/ni/nb/nr/na/nr/ni/ne/ns/n /ns/nu/nc/nh/n /na/ns/n /ns/nc/ni/nk/ni/nt/n-/nl/ne/na/nr/nn/n,/n /np/na/nn/nd/na/ns/n,/n /nm/na/nt/np/nl/no/nt/nl/ni/nb/n)/nS/nt/na/nt/ni/ns/nt/ni/nc/na/nl/n /nA/nn/na/nl/ny/ns/ni/ns/nD/na/nt/na/n /nV/ni/ns/nu/na/nl/ni/nz/na/nt/ni/no/nn/nP/nr/no/nb/nl/ne/nm/n-/ns/no/nl/nv/ni/nn/ng/nS/nt/nr/no/nn/ng/n /nC/no/nm/nm/nu/nn/ni/nc/na/nt/ni/no/nn/nJ/na/nv/na/n /n(/ni/nn/nt/ne/nr/nm/ne/nd/ni/na/nt/ne/n)/nH/nT/nM/nL/n,/n /nC/nS/nS/n,/n /nJ/na/nv/na/nS/nc/nr/ni/np/nt/nM/no/nn/ng/no/nD/nB/n,/n /nM/ny/nS/nQ/nL/nS/nh/ne/nl/nl/n /nS/nc/nr/ni/np/nt/ni/nn/ng/nM/na/nn/nu/na/nl/n /nT/ne/ns/nt/ni/nn/ng/n /nA/ng/ni/nl/ne/n /nM/ne/nt/nh/no/nd/no/nl/no/ng/ny/n /n /nE/nD/nU/nC/nA/nT/nI/nO/nN/n /n /n /n /nB/na/nc/nh/ne/nl/no/nr/n /no/nf/n /ns/nc/ni/ne/nn/nc/ne/n /ni/nn/n /ns/no/nf/nt/nw/na/nr/ne/n /ne/nn/ng/ni/nn/ne/ne/nr/ni/nn/ng/n /n /nU/ns/nm/na/nn/n /nI/nn/ns/nt/ni/nt/nu/nt/ne/n /no/nf/n /nT/ne/nc/nh/nn/no/nl/no/ng/ny/n /n-/n /nU/nI/nT/n /n /nE/nx/np/ne/nc/nt/ne/nd/n /nG/nr/na/nd/nu/na/nt/ni/no/nn/n /n2/n0/n2/n5/n /n /n /n2/n0/n2/n1/n /n-/n /np/nr/ne/ns/ne/nn/nt/n /n /n /n\t/n\t/n /n /n /n /nK/na/nr/na/nc/nh/ni/n /n /nP/nr/ne/n-/nE/nn/ng/ni/nn/ne/ne/nr/nn/ni/nn/ng/nG/no/nv/nt/n./n /nD/ne/nh/nl/ni/n /nC/no/nl/nl/ne/ng/ne/nG/nr/na/nd/ne/n /nA/n+/n /n /n /n2/n0/n1/n9/n /n–/n /n2/n0/n2/n1/n\t/n /n /n /n\t/n\t/n /n /n /n /nK/na/nr/na/nc/nh/ni/n /n /nM/na/nt/nr/ni/nc/nu/nl/na/nt/ni/no/nn/nU/nm/nm/nu/nl/n /nQ/nu/nr/na/n /nS/ne/nc/no/nn/nd/na/nr/ny/n /nS/nc/nh/no/no/nl/nG/nr/na/nd/ne/n /nA/n+/n /n /n /n2/n0/n1/n7/n /n–/n /n2/n0/n1/n9/n\t/n /n /n /n\t/n\t/n /n /n /n /nK/na/nr/na/nc/nh/ni/n /n /nL/nA/nN/nG/nU/nA/nG/nE/nS/n /n /n /n /nU/nr/nd/nu/n /n /n\t/nE/nn/ng/nl/ni/ns/nh/n /n /n /n \n"
     ]
    }
   ],
   "source": [
    "from docx import Document\n",
    "\n",
    "def read_docx(file_path):\n",
    "    doc = Document(file_path)\n",
    "    text = ''\n",
    "    for para in doc.paragraphs:\n",
    " #       text.append(para.text)\n",
    " #   return '\\n'.join(text)\n",
    "        text+=para.text\n",
    "    return '/n'.join(text)\n",
    "\n",
    "file_path = 'SyedDaniyalAhmedResume.docx'  # Replace with your file path\n",
    "print(read_docx(file_path))\n"
   ]
  },
  {
   "cell_type": "code",
   "execution_count": null,
   "id": "ad002208-43f0-400f-ac72-20a127b89ff6",
   "metadata": {},
   "outputs": [],
   "source": []
  }
 ],
 "metadata": {
  "kernelspec": {
   "display_name": "Python 3 (ipykernel)",
   "language": "python",
   "name": "python3"
  },
  "language_info": {
   "codemirror_mode": {
    "name": "ipython",
    "version": 3
   },
   "file_extension": ".py",
   "mimetype": "text/x-python",
   "name": "python",
   "nbconvert_exporter": "python",
   "pygments_lexer": "ipython3",
   "version": "3.12.4"
  }
 },
 "nbformat": 4,
 "nbformat_minor": 5
}
